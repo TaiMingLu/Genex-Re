{
 "cells": [
  {
   "cell_type": "code",
   "execution_count": 3,
   "metadata": {},
   "outputs": [],
   "source": [
    "from navigator import *\n",
    "navigator = Navigator()"
   ]
  },
  {
   "cell_type": "code",
   "execution_count": 4,
   "metadata": {},
   "outputs": [
    {
     "name": "stdout",
     "output_type": "stream",
     "text": [
      "Converted Panorama to Cube Map.\n",
      "Extracted Cube Faces.\n",
      "Converted Panorama to Cube Map.\n",
      "Extracted Cube Faces.\n",
      "Converted Panorama to Cube Map.\n",
      "Extracted Cube Faces.\n",
      "Converted Panorama to Cube Map.\n",
      "Extracted Cube Faces.\n",
      "Converted Panorama to Cube Map.\n",
      "Extracted Cube Faces.\n",
      "Converted Panorama to Cube Map.\n",
      "Extracted Cube Faces.\n",
      "Converted Panorama to Cube Map.\n",
      "Extracted Cube Faces.\n",
      "Converted Panorama to Cube Map.\n",
      "Extracted Cube Faces.\n",
      "Converted Panorama to Cube Map.\n",
      "Extracted Cube Faces.\n",
      "Converted Panorama to Cube Map.\n",
      "Extracted Cube Faces.\n",
      "Converted Panorama to Cube Map.\n",
      "Extracted Cube Faces.\n",
      "Converted Panorama to Cube Map.\n",
      "Extracted Cube Faces.\n",
      "Converted Panorama to Cube Map.\n",
      "Extracted Cube Faces.\n",
      "Converted Panorama to Cube Map.\n",
      "Extracted Cube Faces.\n",
      "Converted Panorama to Cube Map.\n",
      "Extracted Cube Faces.\n",
      "Converted Panorama to Cube Map.\n",
      "Extracted Cube Faces.\n"
     ]
    }
   ],
   "source": [
    "import os\n",
    "from PIL import Image\n",
    "\n",
    "for folder in ['Unreal', 'Blender']:\n",
    "    for i in range(8):\n",
    "        gif_path = f\"pics/{folder}-generations/{i}.gif\"\n",
    "        gif = Image.open(gif_path)\n",
    "        gif.seek(gif.n_frames - 1)  # Move to the last frame\n",
    "        last_frame = gif.copy().convert('RGB').resize((1024, 512))\n",
    "\n",
    "        _, cubes = navigator.convert_panorama_to_cubemap(panorama_image=last_frame)\n",
    "        cubes['front'].save(f\"pics/{folder}-birdeye/{i}.png\")"
   ]
  },
  {
   "cell_type": "code",
   "execution_count": null,
   "metadata": {},
   "outputs": [],
   "source": []
  }
 ],
 "metadata": {
  "kernelspec": {
   "display_name": "nlp-class",
   "language": "python",
   "name": "python3"
  },
  "language_info": {
   "codemirror_mode": {
    "name": "ipython",
    "version": 3
   },
   "file_extension": ".py",
   "mimetype": "text/x-python",
   "name": "python",
   "nbconvert_exporter": "python",
   "pygments_lexer": "ipython3",
   "version": "3.9.18"
  }
 },
 "nbformat": 4,
 "nbformat_minor": 2
}
